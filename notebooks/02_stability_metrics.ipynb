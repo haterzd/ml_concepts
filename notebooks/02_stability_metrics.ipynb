{
 "cells": [
  {
   "cell_type": "markdown",
   "id": "24c43aa9-9e67-4313-b9a5-e8da73ee4d53",
   "metadata": {
    "tags": []
   },
   "source": [
    "### Ноутбук содержит реализацию следующих методов мониторинга стабильности модели:\n",
    "1) Kolmogorov-Smirnov test(kstest)\n",
    "2) Population Stability Index (PSI)"
   ]
  },
  {
   "cell_type": "code",
   "execution_count": null,
   "id": "4e24d85d-3cf2-4f43-bb67-77bcafc32ed2",
   "metadata": {},
   "outputs": [],
   "source": [
    "from scipy import stats\n",
    "import numpy as np\n",
    "import pandas as pd\n",
    "import matplotlib.pyplot as plt\n",
    "import seaborn as sns\n",
    "from tqdm import tqdm\n",
    "from sklearn.linear_model import LogisticRegression\n",
    "from scipy.stats import norm"
   ]
  },
  {
   "cell_type": "markdown",
   "id": "df204433-59a3-4b79-9bdd-05897cb48235",
   "metadata": {
    "tags": []
   },
   "source": [
    "разделим выборку по сегментам и предсатвим что каждый сегмент это одна неделя в данных,\n",
    "первые 3 сегмента будем рассматривать как обучающую выборку и сравнивать распределение на первых 3х сегментах с каждым из оставшихся"
   ]
  },
  {
   "cell_type": "code",
   "execution_count": 1638,
   "id": "de9fe984-8591-4760-ab4e-4a57b3631fe4",
   "metadata": {
    "tags": []
   },
   "outputs": [
    {
     "data": {
      "text/plain": [
       "(150000, 12)"
      ]
     },
     "execution_count": 1638,
     "metadata": {},
     "output_type": "execute_result"
    }
   ],
   "source": [
    "df = (\n",
    "    pd.read_csv(\"../data/cs-training.csv\")\n",
    "    .drop(columns='Unnamed: 0')\n",
    "    .rename(columns={'SeriousDlqin2yrs': 'target'})\n",
    ")\n",
    "df['segment2'] = np.random.choice([f'seg{i}' for i in range(15)], df.shape[0])\n",
    "df.shape"
   ]
  },
  {
   "cell_type": "code",
   "execution_count": 1639,
   "id": "919feebb-1b9a-4f41-adb3-8ba107690e30",
   "metadata": {
    "tags": []
   },
   "outputs": [
    {
     "data": {
      "text/html": [
       "<div>\n",
       "<style scoped>\n",
       "    .dataframe tbody tr th:only-of-type {\n",
       "        vertical-align: middle;\n",
       "    }\n",
       "\n",
       "    .dataframe tbody tr th {\n",
       "        vertical-align: top;\n",
       "    }\n",
       "\n",
       "    .dataframe thead th {\n",
       "        text-align: right;\n",
       "    }\n",
       "</style>\n",
       "<table border=\"1\" class=\"dataframe\">\n",
       "  <thead>\n",
       "    <tr style=\"text-align: right;\">\n",
       "      <th></th>\n",
       "      <th>target</th>\n",
       "      <th>RevolvingUtilizationOfUnsecuredLines</th>\n",
       "      <th>age</th>\n",
       "      <th>NumberOfTime30-59DaysPastDueNotWorse</th>\n",
       "      <th>DebtRatio</th>\n",
       "      <th>MonthlyIncome</th>\n",
       "      <th>NumberOfOpenCreditLinesAndLoans</th>\n",
       "      <th>NumberOfTimes90DaysLate</th>\n",
       "      <th>NumberRealEstateLoansOrLines</th>\n",
       "      <th>NumberOfTime60-89DaysPastDueNotWorse</th>\n",
       "      <th>NumberOfDependents</th>\n",
       "      <th>segment2</th>\n",
       "    </tr>\n",
       "  </thead>\n",
       "  <tbody>\n",
       "    <tr>\n",
       "      <th>0</th>\n",
       "      <td>1</td>\n",
       "      <td>0.766127</td>\n",
       "      <td>45</td>\n",
       "      <td>2</td>\n",
       "      <td>0.802982</td>\n",
       "      <td>9120.0</td>\n",
       "      <td>13</td>\n",
       "      <td>0</td>\n",
       "      <td>6</td>\n",
       "      <td>0</td>\n",
       "      <td>2.0</td>\n",
       "      <td>seg5</td>\n",
       "    </tr>\n",
       "    <tr>\n",
       "      <th>1</th>\n",
       "      <td>0</td>\n",
       "      <td>0.957151</td>\n",
       "      <td>40</td>\n",
       "      <td>0</td>\n",
       "      <td>0.121876</td>\n",
       "      <td>2600.0</td>\n",
       "      <td>4</td>\n",
       "      <td>0</td>\n",
       "      <td>0</td>\n",
       "      <td>0</td>\n",
       "      <td>1.0</td>\n",
       "      <td>seg4</td>\n",
       "    </tr>\n",
       "    <tr>\n",
       "      <th>2</th>\n",
       "      <td>0</td>\n",
       "      <td>0.658180</td>\n",
       "      <td>38</td>\n",
       "      <td>1</td>\n",
       "      <td>0.085113</td>\n",
       "      <td>3042.0</td>\n",
       "      <td>2</td>\n",
       "      <td>1</td>\n",
       "      <td>0</td>\n",
       "      <td>0</td>\n",
       "      <td>0.0</td>\n",
       "      <td>seg0</td>\n",
       "    </tr>\n",
       "    <tr>\n",
       "      <th>3</th>\n",
       "      <td>0</td>\n",
       "      <td>0.233810</td>\n",
       "      <td>30</td>\n",
       "      <td>0</td>\n",
       "      <td>0.036050</td>\n",
       "      <td>3300.0</td>\n",
       "      <td>5</td>\n",
       "      <td>0</td>\n",
       "      <td>0</td>\n",
       "      <td>0</td>\n",
       "      <td>0.0</td>\n",
       "      <td>seg7</td>\n",
       "    </tr>\n",
       "    <tr>\n",
       "      <th>4</th>\n",
       "      <td>0</td>\n",
       "      <td>0.907239</td>\n",
       "      <td>49</td>\n",
       "      <td>1</td>\n",
       "      <td>0.024926</td>\n",
       "      <td>63588.0</td>\n",
       "      <td>7</td>\n",
       "      <td>0</td>\n",
       "      <td>1</td>\n",
       "      <td>0</td>\n",
       "      <td>0.0</td>\n",
       "      <td>seg8</td>\n",
       "    </tr>\n",
       "  </tbody>\n",
       "</table>\n",
       "</div>"
      ],
      "text/plain": [
       "   target  RevolvingUtilizationOfUnsecuredLines  age  \\\n",
       "0       1                              0.766127   45   \n",
       "1       0                              0.957151   40   \n",
       "2       0                              0.658180   38   \n",
       "3       0                              0.233810   30   \n",
       "4       0                              0.907239   49   \n",
       "\n",
       "   NumberOfTime30-59DaysPastDueNotWorse  DebtRatio  MonthlyIncome  \\\n",
       "0                                     2   0.802982         9120.0   \n",
       "1                                     0   0.121876         2600.0   \n",
       "2                                     1   0.085113         3042.0   \n",
       "3                                     0   0.036050         3300.0   \n",
       "4                                     1   0.024926        63588.0   \n",
       "\n",
       "   NumberOfOpenCreditLinesAndLoans  NumberOfTimes90DaysLate  \\\n",
       "0                               13                        0   \n",
       "1                                4                        0   \n",
       "2                                2                        1   \n",
       "3                                5                        0   \n",
       "4                                7                        0   \n",
       "\n",
       "   NumberRealEstateLoansOrLines  NumberOfTime60-89DaysPastDueNotWorse  \\\n",
       "0                             6                                     0   \n",
       "1                             0                                     0   \n",
       "2                             0                                     0   \n",
       "3                             0                                     0   \n",
       "4                             1                                     0   \n",
       "\n",
       "   NumberOfDependents segment2  \n",
       "0                 2.0     seg5  \n",
       "1                 1.0     seg4  \n",
       "2                 0.0     seg0  \n",
       "3                 0.0     seg7  \n",
       "4                 0.0     seg8  "
      ]
     },
     "execution_count": 1639,
     "metadata": {},
     "output_type": "execute_result"
    }
   ],
   "source": [
    "df.head()"
   ]
  },
  {
   "cell_type": "markdown",
   "id": "75aad30d-ac37-4927-b41e-bf8bf78f8456",
   "metadata": {
    "tags": []
   },
   "source": [
    "## KS-test"
   ]
  },
  {
   "cell_type": "code",
   "execution_count": 1212,
   "id": "4478de14-715b-4d8b-8d91-543e1ee85ccb",
   "metadata": {
    "tags": []
   },
   "outputs": [],
   "source": [
    "class KStest:\n",
    "    def __init__(self):\n",
    "        pass\n",
    "    \n",
    "    \n",
    "    def get_pdf(self, values: pd.Series):\n",
    "        unique_vals = list(values.unique())\n",
    "        unique_vals.sort()\n",
    "        n = len(values)\n",
    "        pdf = []\n",
    "        for val in unique_vals:\n",
    "            pdf.append([val, (values == val).sum() / n])\n",
    "        return pdf\n",
    "    \n",
    "    \n",
    "    def _get_cdf(self, pdf):\n",
    "        s = 0\n",
    "        cdf = pdf.copy()\n",
    "        for i in range(len(cdf)):\n",
    "            cdf[i] = cdf[i].copy()\n",
    "            s += cdf[i][1]\n",
    "            cdf[i].append(s)\n",
    "        return cdf\n",
    "    \n",
    "    \n",
    "    def get_cdf(self, values: pd.Series):\n",
    "        return self._get_cdf(self.get_pdf(values))\n",
    "    \n",
    "    \n",
    "    def kstest_apply(self, sample_1, sample_2):\n",
    "        sample_1_pdf = self.get_pdf(sample_1)\n",
    "        sample_1_cdf = self._get_cdf(sample_1_pdf)\n",
    "        \n",
    "        sample_2_pdf = self.get_pdf(sample_2)\n",
    "        sample_2_cdf = self._get_cdf(sample_2_pdf)\n",
    "\n",
    "        sample_1_cdf = {val: cdf for val, _, cdf in sample_1_cdf}\n",
    "        sample_2_cdf = {val: cdf for val, _, cdf in sample_2_cdf}\n",
    "        unique_values = list(set(list(sample_1_cdf.keys()) + list(sample_2_cdf.keys())))\n",
    "        unique_values.sort()\n",
    "        \n",
    "        sample_1_prev = 0\n",
    "        sample_2_prev = 0\n",
    "        d_val = 0\n",
    "        for val in unique_values:\n",
    "            if val in sample_1_cdf:\n",
    "                sample_1_val = sample_1_cdf[val]\n",
    "            else:\n",
    "                sample_1_val = sample_1_prev\n",
    "            if val in sample_2_cdf:\n",
    "                sample_2_val = sample_2_cdf[val]\n",
    "            else:\n",
    "                sample_2_val = sample_2_prev\n",
    "            d_val = max(d_val, abs(sample_1_val - sample_2_val))\n",
    "\n",
    "            sample_1_prev = sample_1_val\n",
    "            sample_2_prev = sample_2_val\n",
    "        return d_val\n",
    "    \n",
    "    \n",
    "kstest = KStest()"
   ]
  },
  {
   "cell_type": "code",
   "execution_count": 1214,
   "id": "35921fe7-cfda-49c3-86ac-20d6ca5c2f6f",
   "metadata": {
    "tags": []
   },
   "outputs": [
    {
     "data": {
      "text/plain": [
       "target                                       2\n",
       "RevolvingUtilizationOfUnsecuredLines    125728\n",
       "age                                         86\n",
       "NumberOfTime30-59DaysPastDueNotWorse        16\n",
       "DebtRatio                               114194\n",
       "MonthlyIncome                            13594\n",
       "NumberOfOpenCreditLinesAndLoans             58\n",
       "NumberOfTimes90DaysLate                     19\n",
       "NumberRealEstateLoansOrLines                28\n",
       "NumberOfTime60-89DaysPastDueNotWorse        13\n",
       "NumberOfDependents                          13\n",
       "segment2                                    15\n",
       "dtype: int64"
      ]
     },
     "execution_count": 1214,
     "metadata": {},
     "output_type": "execute_result"
    }
   ],
   "source": [
    "df.nunique()"
   ]
  },
  {
   "cell_type": "code",
   "execution_count": 1175,
   "id": "af4f7db5-d291-4e94-84de-b30da853fb0b",
   "metadata": {
    "tags": []
   },
   "outputs": [],
   "source": [
    "test_cols = list(df.columns[1:-2])"
   ]
  },
  {
   "cell_type": "code",
   "execution_count": 1177,
   "id": "0f4bfcf0-1082-4860-a631-b36c612c01ff",
   "metadata": {
    "tags": []
   },
   "outputs": [
    {
     "name": "stderr",
     "output_type": "stream",
     "text": [
      "100%|██████████| 10/10 [00:52<00:00,  5.24s/it]\n"
     ]
    }
   ],
   "source": [
    "max_diff = 0\n",
    "p_vals = []\n",
    "for column in tqdm(test_cols):\n",
    "    sample1 = df.loc[df['segment2'].isin(['seg1', 'seg2', 'seg3']), column]\n",
    "    sample1 = sample1.fillna(sample1.median())\n",
    "    for segment in df['segment2'].unique():\n",
    "        sample2 = df.loc[df['segment2'] == segment, column]\n",
    "        sample2 = sample2.fillna(sample1.median())\n",
    "        stat1 = stats.kstest(\n",
    "            sample1,\n",
    "            sample2\n",
    "        ).statistic\n",
    "        stat2 = kstest.kstest_apply(\n",
    "            sample1,\n",
    "            sample2\n",
    "        )\n",
    "        max_diff = max(max_diff, abs(stat1 - stat2))\n",
    "        p_vals.append([\n",
    "            column,\n",
    "            segment,\n",
    "            stats.kstest(\n",
    "                sample1,\n",
    "                sample2\n",
    "            ).pvalue,\n",
    "            max_diff\n",
    "        ])"
   ]
  },
  {
   "cell_type": "code",
   "execution_count": 1222,
   "id": "dc927304-4194-4699-ad0f-20c80a19f8a2",
   "metadata": {
    "tags": []
   },
   "outputs": [
    {
     "data": {
      "text/html": [
       "<div>\n",
       "<style scoped>\n",
       "    .dataframe tbody tr th:only-of-type {\n",
       "        vertical-align: middle;\n",
       "    }\n",
       "\n",
       "    .dataframe tbody tr th {\n",
       "        vertical-align: top;\n",
       "    }\n",
       "\n",
       "    .dataframe thead th {\n",
       "        text-align: right;\n",
       "    }\n",
       "</style>\n",
       "<table border=\"1\" class=\"dataframe\">\n",
       "  <thead>\n",
       "    <tr style=\"text-align: right;\">\n",
       "      <th></th>\n",
       "      <th>columns</th>\n",
       "      <th>segment</th>\n",
       "      <th>p_val</th>\n",
       "      <th>max_diff</th>\n",
       "    </tr>\n",
       "  </thead>\n",
       "  <tbody>\n",
       "    <tr>\n",
       "      <th>55</th>\n",
       "      <td>DebtRatio</td>\n",
       "      <td>seg11</td>\n",
       "      <td>0.013591</td>\n",
       "      <td>2.398082e-13</td>\n",
       "    </tr>\n",
       "    <tr>\n",
       "      <th>145</th>\n",
       "      <td>NumberOfDependents</td>\n",
       "      <td>seg11</td>\n",
       "      <td>0.014541</td>\n",
       "      <td>2.398082e-13</td>\n",
       "    </tr>\n",
       "    <tr>\n",
       "      <th>148</th>\n",
       "      <td>NumberOfDependents</td>\n",
       "      <td>seg13</td>\n",
       "      <td>0.106357</td>\n",
       "      <td>2.398082e-13</td>\n",
       "    </tr>\n",
       "    <tr>\n",
       "      <th>48</th>\n",
       "      <td>DebtRatio</td>\n",
       "      <td>seg10</td>\n",
       "      <td>0.115294</td>\n",
       "      <td>2.398082e-13</td>\n",
       "    </tr>\n",
       "    <tr>\n",
       "      <th>25</th>\n",
       "      <td>age</td>\n",
       "      <td>seg11</td>\n",
       "      <td>0.145083</td>\n",
       "      <td>1.316725e-13</td>\n",
       "    </tr>\n",
       "  </tbody>\n",
       "</table>\n",
       "</div>"
      ],
      "text/plain": [
       "                columns segment     p_val      max_diff\n",
       "55            DebtRatio   seg11  0.013591  2.398082e-13\n",
       "145  NumberOfDependents   seg11  0.014541  2.398082e-13\n",
       "148  NumberOfDependents   seg13  0.106357  2.398082e-13\n",
       "48            DebtRatio   seg10  0.115294  2.398082e-13\n",
       "25                  age   seg11  0.145083  1.316725e-13"
      ]
     },
     "execution_count": 1222,
     "metadata": {},
     "output_type": "execute_result"
    }
   ],
   "source": [
    "res_df = pd.DataFrame(p_vals, columns=['columns', 'segment', 'p_val', 'max_diff'])\n",
    "res_df.sort_values('p_val').head()"
   ]
  },
  {
   "cell_type": "markdown",
   "id": "74a276ec-be25-4b50-82e3-46fc53c6d0ae",
   "metadata": {
    "tags": []
   },
   "source": [
    "видим что 2 раза уровень значимости оказался меньше 0.05, что в целом номарльно, учитывая что мы провели 150 тестов(10 фичей и 15 сегментов)"
   ]
  },
  {
   "cell_type": "markdown",
   "id": "fd79b0e0-6f13-4f20-86fa-a03b07003794",
   "metadata": {
    "tags": []
   },
   "source": [
    "## PSI"
   ]
  },
  {
   "cell_type": "markdown",
   "id": "4cb127cd-9b50-4eeb-82e1-4049d8876cf8",
   "metadata": {},
   "source": [
    "### снова берем за эталонное распределение первые 3 сегмента и сравниваем остальные сегменты с ним"
   ]
  },
  {
   "cell_type": "code",
   "execution_count": 1544,
   "id": "71e0c546-9dd3-4768-8f51-6c2e300a1bbb",
   "metadata": {
    "tags": []
   },
   "outputs": [
    {
     "name": "stderr",
     "output_type": "stream",
     "text": [
      "100%|██████████| 10/10 [00:01<00:00,  5.37it/s]\n"
     ]
    }
   ],
   "source": [
    "psi_stats = []\n",
    "for column in tqdm(test_cols):\n",
    "    bins = (\n",
    "        [float('-inf')] + \n",
    "        list(\n",
    "            pd.qcut(\n",
    "                df.loc[df['segment2'].isin(['seg1', 'seg2', 'seg3']), column], \n",
    "                q=10, \n",
    "                retbins = True,\n",
    "                duplicates='drop'\n",
    "            )[1][1:-1]) +\n",
    "        [float('inf')]\n",
    "    )\n",
    "    sample_1 = df.loc[df['segment2'].isin(['seg1', 'seg2', 'seg3']), column]\n",
    "    sample_1 = (pd.cut(sample_1, bins=bins).value_counts() / sample_1.shape[0]).reset_index()\n",
    "    for segment in df['segment2'].unique():\n",
    "        sample_2 = df.loc[df['segment2'] == segment, column]\n",
    "        sample_2 = (pd.cut(sample_2, bins=bins).value_counts() / sample_2.shape[0]).reset_index()\n",
    "        samples_all = sample_1.merge(sample_2, how='outer', on=column, suffixes=('_train', '_test'))\n",
    "        psi = ((samples_all['count_test'] - samples_all['count_train']) * np.log(samples_all['count_test'] / samples_all['count_train'])).sum()\n",
    "        psi_stats.append([column, segment, psi])"
   ]
  },
  {
   "cell_type": "code",
   "execution_count": 1943,
   "id": "18a72c93-37e8-4242-8e64-81d6319a997c",
   "metadata": {
    "tags": []
   },
   "outputs": [
    {
     "data": {
      "text/html": [
       "<div>\n",
       "<style scoped>\n",
       "    .dataframe tbody tr th:only-of-type {\n",
       "        vertical-align: middle;\n",
       "    }\n",
       "\n",
       "    .dataframe tbody tr th {\n",
       "        vertical-align: top;\n",
       "    }\n",
       "\n",
       "    .dataframe thead th {\n",
       "        text-align: right;\n",
       "    }\n",
       "</style>\n",
       "<table border=\"1\" class=\"dataframe\">\n",
       "  <thead>\n",
       "    <tr style=\"text-align: right;\">\n",
       "      <th></th>\n",
       "      <th>column</th>\n",
       "      <th>segment</th>\n",
       "      <th>psi</th>\n",
       "    </tr>\n",
       "  </thead>\n",
       "  <tbody>\n",
       "    <tr>\n",
       "      <th>108</th>\n",
       "      <td>NumberRealEstateLoansOrLines</td>\n",
       "      <td>seg1</td>\n",
       "      <td>0.000051</td>\n",
       "    </tr>\n",
       "    <tr>\n",
       "      <th>97</th>\n",
       "      <td>NumberOfTimes90DaysLate</td>\n",
       "      <td>seg2</td>\n",
       "      <td>0.000000</td>\n",
       "    </tr>\n",
       "    <tr>\n",
       "      <th>45</th>\n",
       "      <td>DebtRatio</td>\n",
       "      <td>seg11</td>\n",
       "      <td>0.000578</td>\n",
       "    </tr>\n",
       "    <tr>\n",
       "      <th>21</th>\n",
       "      <td>age</td>\n",
       "      <td>seg0</td>\n",
       "      <td>0.002535</td>\n",
       "    </tr>\n",
       "    <tr>\n",
       "      <th>38</th>\n",
       "      <td>NumberOfTime30-59DaysPastDueNotWorse</td>\n",
       "      <td>seg13</td>\n",
       "      <td>0.000256</td>\n",
       "    </tr>\n",
       "    <tr>\n",
       "      <th>109</th>\n",
       "      <td>NumberRealEstateLoansOrLines</td>\n",
       "      <td>seg12</td>\n",
       "      <td>0.000052</td>\n",
       "    </tr>\n",
       "    <tr>\n",
       "      <th>10</th>\n",
       "      <td>RevolvingUtilizationOfUnsecuredLines</td>\n",
       "      <td>seg5</td>\n",
       "      <td>0.001473</td>\n",
       "    </tr>\n",
       "    <tr>\n",
       "      <th>47</th>\n",
       "      <td>DebtRatio</td>\n",
       "      <td>seg6</td>\n",
       "      <td>0.002583</td>\n",
       "    </tr>\n",
       "    <tr>\n",
       "      <th>66</th>\n",
       "      <td>MonthlyIncome</td>\n",
       "      <td>seg0</td>\n",
       "      <td>0.002153</td>\n",
       "    </tr>\n",
       "    <tr>\n",
       "      <th>114</th>\n",
       "      <td>NumberRealEstateLoansOrLines</td>\n",
       "      <td>seg14</td>\n",
       "      <td>0.000260</td>\n",
       "    </tr>\n",
       "  </tbody>\n",
       "</table>\n",
       "</div>"
      ],
      "text/plain": [
       "                                   column segment       psi\n",
       "108          NumberRealEstateLoansOrLines    seg1  0.000051\n",
       "97                NumberOfTimes90DaysLate    seg2  0.000000\n",
       "45                              DebtRatio   seg11  0.000578\n",
       "21                                    age    seg0  0.002535\n",
       "38   NumberOfTime30-59DaysPastDueNotWorse   seg13  0.000256\n",
       "109          NumberRealEstateLoansOrLines   seg12  0.000052\n",
       "10   RevolvingUtilizationOfUnsecuredLines    seg5  0.001473\n",
       "47                              DebtRatio    seg6  0.002583\n",
       "66                          MonthlyIncome    seg0  0.002153\n",
       "114          NumberRealEstateLoansOrLines   seg14  0.000260"
      ]
     },
     "execution_count": 1943,
     "metadata": {},
     "output_type": "execute_result"
    }
   ],
   "source": [
    "psi_stats_df = pd.DataFrame(psi_stats, columns=['column', 'segment', 'psi'])\n",
    "psi_stats_df.sample(10)"
   ]
  },
  {
   "cell_type": "markdown",
   "id": "dccda013-a6f6-4c5b-85b5-f5cbc1853597",
   "metadata": {
    "tags": []
   },
   "source": [
    "### Нарисуем для одного признака распределение в каждом сегменте и соотвествующий psi"
   ]
  },
  {
   "cell_type": "code",
   "execution_count": 1934,
   "id": "b62e41da-fbf0-4933-bf54-4af762365916",
   "metadata": {
    "tags": []
   },
   "outputs": [],
   "source": [
    "psi = []\n",
    "column = 'age'\n",
    "bins = (\n",
    "    [float('-inf')] + \n",
    "    list(\n",
    "        pd.qcut(\n",
    "            df.loc[df['segment2'].isin(['seg1', 'seg2', 'seg3']), column], \n",
    "            q=10, \n",
    "            retbins = True,\n",
    "            duplicates='drop'\n",
    "        )[1][1:-1]) +\n",
    "    [float('inf')]\n",
    ")\n",
    "sample_1 = df.loc[df['segment2'].isin(['seg1', 'seg2', 'seg3']), column]\n",
    "sample_1 = (pd.cut(sample_1, bins=bins).value_counts() / sample_1.shape[0]).reset_index()\n",
    "samples_all = sample_1.copy()\n",
    "for segment in df['segment2'].unique():\n",
    "    sample_2 = df.loc[df['segment2'] == segment, column]\n",
    "    sample_2 = (pd.cut(sample_2, bins=bins).value_counts() / sample_2.shape[0]).reset_index()\n",
    "    sample_2 = sample_2.rename(columns={'count': segment + '_distrib'})\n",
    "    samples_all = samples_all.merge(sample_2, how='outer', on=column)\n",
    "    psi.append([segment + '_distrib', ((samples_all[segment + '_distrib'] - samples_all['count']) * np.log(samples_all[segment + '_distrib'] / samples_all['count'])).sum()])"
   ]
  },
  {
   "cell_type": "code",
   "execution_count": 1964,
   "id": "0157a6b2-cf33-4ab3-89cd-b32367e60466",
   "metadata": {
    "tags": []
   },
   "outputs": [
    {
     "data": {
      "image/png": "[encoded data removed]",
      "text/plain": [
       "<Figure size 1400x700 with 1 Axes>"
      ]
     },
     "metadata": {},
     "output_type": "display_data"
    }
   ],
   "source": [
    "backet_data = samples_all.T\n",
    "backet_data.columns = backet_data.loc['age', :].values\n",
    "figure, axis = plt.subplots(1, 1, figsize=(14, 7))\n",
    "figure\n",
    "(\n",
    "    backet_data[2:]\n",
    "    .reset_index()\n",
    "    .assign(index=lambda x: x['index'].apply(lambda val: int(val.split('_')[0][3:])))\n",
    "    .set_index('index')\n",
    "    .sort_index()\n",
    ").plot(    \n",
    "    kind='bar', \n",
    "    stacked=True,\n",
    "    ax=axis\n",
    ")\n",
    "(\n",
    "    pd.DataFrame(psi, columns=['index', 'psi'])    \n",
    "    .assign(index=lambda x: x['index'].apply(lambda val: int(val.split('_')[0][3:])))\n",
    "    .set_index('index')\n",
    "    .sort_index() * 100 # psi очень маленький, поэтому искусственно увеличим его, чтобы он был заметен на графике\n",
    ").plot(\n",
    "    kind='line',\n",
    "    color='black',\n",
    "    linestyle='solid',\n",
    "    marker='o',\n",
    "    ax=axis\n",
    ")\n",
    "plt.title('age PSI')\n",
    "plt.show()"
   ]
  },
  {
   "cell_type": "markdown",
   "id": "8afc59d1-7190-4665-8837-5a5e86bc525a",
   "metadata": {},
   "source": [
    "Если psi превышает пороговое значение(как правило - 0.1), считаем признак нестабилиьным. Имеет смысл смотреть на максимальный psi за все периоды/сегменты."
   ]
  },
  {
   "cell_type": "code",
   "execution_count": null,
   "id": "00b27856-2669-46e1-a2a7-bc4697c8875c",
   "metadata": {},
   "outputs": [],
   "source": []
  }
 ],
 "metadata": {
  "kernelspec": {
   "display_name": "Python 3 (ipykernel)",
   "language": "python",
   "name": "python3"
  },
  "language_info": {
   "codemirror_mode": {
    "name": "ipython",
    "version": 3
   },
   "file_extension": ".py",
   "mimetype": "text/x-python",
   "name": "python",
   "nbconvert_exporter": "python",
   "pygments_lexer": "ipython3",
   "version": "3.11.8"
  }
 },
 "nbformat": 4,
 "nbformat_minor": 5
}
